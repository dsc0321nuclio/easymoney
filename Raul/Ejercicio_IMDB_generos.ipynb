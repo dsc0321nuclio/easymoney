{
 "metadata": {
  "language_info": {
   "codemirror_mode": {
    "name": "ipython",
    "version": 3
   },
   "file_extension": ".py",
   "mimetype": "text/x-python",
   "name": "python",
   "nbconvert_exporter": "python",
   "pygments_lexer": "ipython3",
   "version": "3.8.5-final"
  },
  "orig_nbformat": 2,
  "kernelspec": {
   "name": "python385jvsc74a57bd04af592bb51bd06411fd595e6587c9d071cab33ab60f9b52944d78eb993651f61",
   "display_name": "Python 3.8.5 64-bit (conda)"
  }
 },
 "nbformat": 4,
 "nbformat_minor": 2,
 "cells": [
  {
   "source": [
    "### Ejercicio IMDB de géneros de películas - Raul Camaras\n",
    "### Importar pandas y numpy\n",
    "### cargar un dataframe con los datos de IMDB(películas)"
   ],
   "cell_type": "markdown",
   "metadata": {}
  },
  {
   "cell_type": "code",
   "execution_count": 61,
   "metadata": {},
   "outputs": [],
   "source": [
    "import pandas as pd \n",
    "import numpy as np\n",
    "#leemos el fichero IMDB\n",
    "imdb=pd.read_csv(\"datasets/IMDB.csv\", sep=\";\", encoding='utf-8',index_col=[0])"
   ]
  },
  {
   "cell_type": "code",
   "execution_count": 62,
   "metadata": {},
   "outputs": [
    {
     "output_type": "execute_result",
     "data": {
      "text/plain": [
       "     color      director_name  duration        gross  \\\n",
       "0    Color    Martin Scorsese       240  116866727.0   \n",
       "1    Color        Shane Black       195  408992272.0   \n",
       "2   color   Quentin Tarantino       187   54116191.0   \n",
       "3    Color   Kenneth Lonergan       186      46495.0   \n",
       "4    Color      Peter Jackson       186  258355354.0   \n",
       "..     ...                ...       ...          ...   \n",
       "94   Color      Steve McQueen       134   56667870.0   \n",
       "95   Color   Richard J. Lewis       134    7501404.0   \n",
       "96   Color    Paul Greengrass       134  107100855.0   \n",
       "97   Color         David Ayer       134   85707116.0   \n",
       "98   Color     Clint Eastwood         5   47034272.0   \n",
       "\n",
       "                                  genres                          movie_title  \\\n",
       "0           Biography|Comedy|Crime|Drama              The Wolf of Wall Street   \n",
       "1                Action|Adventure|Sci-Fi                           Iron Man 3   \n",
       "2   Crime|Drama|Mystery|Thriller|Western                    The Hateful Eight   \n",
       "3                                  Drama                             Margaret   \n",
       "4                      Adventure|Fantasy  The Hobbit: The Desolation of Smaug   \n",
       "..                                   ...                                  ...   \n",
       "94               Biography|Drama|History                     12 Years a Slave   \n",
       "95                          Comedy|Drama                     Barney's Version   \n",
       "96              Biography|Drama|Thriller                     Captain Phillips   \n",
       "97                      Action|Drama|War                                 Fury   \n",
       "98         Biography|Drama|Music|Musical                          Jersey Boys   \n",
       "\n",
       "    title_year language country       budget  imdb_score  \\\n",
       "0         2013  English     USA  100000000.0         8.2   \n",
       "1         2013  English     USA  200000000.0         7.2   \n",
       "2         2015  English     USA   44000000.0         7.9   \n",
       "3         2011  English     usa   14000000.0         6.5   \n",
       "4         2013  English     USA  225000000.0         7.9   \n",
       "..         ...      ...     ...          ...         ...   \n",
       "94        2013  English     USA   20000000.0         8.1   \n",
       "95        2010  English  Canada          NaN         7.3   \n",
       "96        2013  English     USA   55000000.0         7.9   \n",
       "97        2014  English     USA   68000000.0         7.6   \n",
       "98        2014  English     USA   40000000.0         6.9   \n",
       "\n",
       "                                               actors  movie_facebook_likes  \n",
       "0   Leonardo DiCaprio,Matthew McConaughey,Jon Favreau                138000  \n",
       "1           Robert Downey Jr.,Jon Favreau,Don Cheadle                 95000  \n",
       "2           Craig Stark,Jennifer Jason Leigh,Zoë Bell                114000  \n",
       "3         Matt Damon,Kieran Culkin,John Gallagher Jr.                     0  \n",
       "4               Aidan Turner,Adam Brown,James Nesbitt                 83000  \n",
       "..                                                ...                   ...  \n",
       "94       Quvenzhané Wallis,Scoot McNairy,Taran Killam                 83000  \n",
       "95                   Mark Addy,Atom Egoyan,Paul Gross                     0  \n",
       "96             Tom Hanks,Chris Mulkey,Michael Chernus                 65000  \n",
       "97                 Brad Pitt,Logan Lerman,Jim Parrack                 82000  \n",
       "98      Johnny Cannizzaro,Steve Schirripa,Scott Vance                 16000  \n",
       "\n",
       "[99 rows x 13 columns]"
      ],
      "text/html": "<div>\n<style scoped>\n    .dataframe tbody tr th:only-of-type {\n        vertical-align: middle;\n    }\n\n    .dataframe tbody tr th {\n        vertical-align: top;\n    }\n\n    .dataframe thead th {\n        text-align: right;\n    }\n</style>\n<table border=\"1\" class=\"dataframe\">\n  <thead>\n    <tr style=\"text-align: right;\">\n      <th></th>\n      <th>color</th>\n      <th>director_name</th>\n      <th>duration</th>\n      <th>gross</th>\n      <th>genres</th>\n      <th>movie_title</th>\n      <th>title_year</th>\n      <th>language</th>\n      <th>country</th>\n      <th>budget</th>\n      <th>imdb_score</th>\n      <th>actors</th>\n      <th>movie_facebook_likes</th>\n    </tr>\n  </thead>\n  <tbody>\n    <tr>\n      <th>0</th>\n      <td>Color</td>\n      <td>Martin Scorsese</td>\n      <td>240</td>\n      <td>116866727.0</td>\n      <td>Biography|Comedy|Crime|Drama</td>\n      <td>The Wolf of Wall Street</td>\n      <td>2013</td>\n      <td>English</td>\n      <td>USA</td>\n      <td>100000000.0</td>\n      <td>8.2</td>\n      <td>Leonardo DiCaprio,Matthew McConaughey,Jon Favreau</td>\n      <td>138000</td>\n    </tr>\n    <tr>\n      <th>1</th>\n      <td>Color</td>\n      <td>Shane Black</td>\n      <td>195</td>\n      <td>408992272.0</td>\n      <td>Action|Adventure|Sci-Fi</td>\n      <td>Iron Man 3</td>\n      <td>2013</td>\n      <td>English</td>\n      <td>USA</td>\n      <td>200000000.0</td>\n      <td>7.2</td>\n      <td>Robert Downey Jr.,Jon Favreau,Don Cheadle</td>\n      <td>95000</td>\n    </tr>\n    <tr>\n      <th>2</th>\n      <td>color</td>\n      <td>Quentin Tarantino</td>\n      <td>187</td>\n      <td>54116191.0</td>\n      <td>Crime|Drama|Mystery|Thriller|Western</td>\n      <td>The Hateful Eight</td>\n      <td>2015</td>\n      <td>English</td>\n      <td>USA</td>\n      <td>44000000.0</td>\n      <td>7.9</td>\n      <td>Craig Stark,Jennifer Jason Leigh,Zoë Bell</td>\n      <td>114000</td>\n    </tr>\n    <tr>\n      <th>3</th>\n      <td>Color</td>\n      <td>Kenneth Lonergan</td>\n      <td>186</td>\n      <td>46495.0</td>\n      <td>Drama</td>\n      <td>Margaret</td>\n      <td>2011</td>\n      <td>English</td>\n      <td>usa</td>\n      <td>14000000.0</td>\n      <td>6.5</td>\n      <td>Matt Damon,Kieran Culkin,John Gallagher Jr.</td>\n      <td>0</td>\n    </tr>\n    <tr>\n      <th>4</th>\n      <td>Color</td>\n      <td>Peter Jackson</td>\n      <td>186</td>\n      <td>258355354.0</td>\n      <td>Adventure|Fantasy</td>\n      <td>The Hobbit: The Desolation of Smaug</td>\n      <td>2013</td>\n      <td>English</td>\n      <td>USA</td>\n      <td>225000000.0</td>\n      <td>7.9</td>\n      <td>Aidan Turner,Adam Brown,James Nesbitt</td>\n      <td>83000</td>\n    </tr>\n    <tr>\n      <th>...</th>\n      <td>...</td>\n      <td>...</td>\n      <td>...</td>\n      <td>...</td>\n      <td>...</td>\n      <td>...</td>\n      <td>...</td>\n      <td>...</td>\n      <td>...</td>\n      <td>...</td>\n      <td>...</td>\n      <td>...</td>\n      <td>...</td>\n    </tr>\n    <tr>\n      <th>94</th>\n      <td>Color</td>\n      <td>Steve McQueen</td>\n      <td>134</td>\n      <td>56667870.0</td>\n      <td>Biography|Drama|History</td>\n      <td>12 Years a Slave</td>\n      <td>2013</td>\n      <td>English</td>\n      <td>USA</td>\n      <td>20000000.0</td>\n      <td>8.1</td>\n      <td>Quvenzhané Wallis,Scoot McNairy,Taran Killam</td>\n      <td>83000</td>\n    </tr>\n    <tr>\n      <th>95</th>\n      <td>Color</td>\n      <td>Richard J. Lewis</td>\n      <td>134</td>\n      <td>7501404.0</td>\n      <td>Comedy|Drama</td>\n      <td>Barney's Version</td>\n      <td>2010</td>\n      <td>English</td>\n      <td>Canada</td>\n      <td>NaN</td>\n      <td>7.3</td>\n      <td>Mark Addy,Atom Egoyan,Paul Gross</td>\n      <td>0</td>\n    </tr>\n    <tr>\n      <th>96</th>\n      <td>Color</td>\n      <td>Paul Greengrass</td>\n      <td>134</td>\n      <td>107100855.0</td>\n      <td>Biography|Drama|Thriller</td>\n      <td>Captain Phillips</td>\n      <td>2013</td>\n      <td>English</td>\n      <td>USA</td>\n      <td>55000000.0</td>\n      <td>7.9</td>\n      <td>Tom Hanks,Chris Mulkey,Michael Chernus</td>\n      <td>65000</td>\n    </tr>\n    <tr>\n      <th>97</th>\n      <td>Color</td>\n      <td>David Ayer</td>\n      <td>134</td>\n      <td>85707116.0</td>\n      <td>Action|Drama|War</td>\n      <td>Fury</td>\n      <td>2014</td>\n      <td>English</td>\n      <td>USA</td>\n      <td>68000000.0</td>\n      <td>7.6</td>\n      <td>Brad Pitt,Logan Lerman,Jim Parrack</td>\n      <td>82000</td>\n    </tr>\n    <tr>\n      <th>98</th>\n      <td>Color</td>\n      <td>Clint Eastwood</td>\n      <td>5</td>\n      <td>47034272.0</td>\n      <td>Biography|Drama|Music|Musical</td>\n      <td>Jersey Boys</td>\n      <td>2014</td>\n      <td>English</td>\n      <td>USA</td>\n      <td>40000000.0</td>\n      <td>6.9</td>\n      <td>Johnny Cannizzaro,Steve Schirripa,Scott Vance</td>\n      <td>16000</td>\n    </tr>\n  </tbody>\n</table>\n<p>99 rows × 13 columns</p>\n</div>"
     },
     "metadata": {},
     "execution_count": 62
    }
   ],
   "source": [
    "imdb"
   ]
  },
  {
   "source": [
    "### Crear una lista con los campos únicos de la columna genres"
   ],
   "cell_type": "markdown",
   "metadata": {}
  },
  {
   "cell_type": "code",
   "execution_count": 63,
   "metadata": {},
   "outputs": [],
   "source": [
    "list_genres=list(imdb['genres'].unique())"
   ]
  },
  {
   "cell_type": "code",
   "execution_count": 64,
   "metadata": {},
   "outputs": [
    {
     "output_type": "execute_result",
     "data": {
      "text/plain": [
       "['Biography|Comedy|Crime|Drama',\n",
       " 'Action|Adventure|Sci-Fi',\n",
       " 'Crime|Drama|Mystery|Thriller|Western',\n",
       " 'Drama',\n",
       " 'Adventure|Fantasy',\n",
       " 'Drama|Romance',\n",
       " 'Drama|Sci-Fi',\n",
       " 'Crime|Drama|Mystery|Thriller',\n",
       " nan,\n",
       " 'Adventure|Drama|Sci-Fi',\n",
       " 'Biography|Crime|Drama|History|Music',\n",
       " 'Drama|Western',\n",
       " 'Action|Thriller',\n",
       " 'Drama|Musical|Romance',\n",
       " 'Drama|History|Thriller',\n",
       " 'Action|Adventure|Drama|History',\n",
       " 'Adventure|Drama|Thriller|Western',\n",
       " 'Biography|Drama|History',\n",
       " 'Action|Adventure|Fantasy',\n",
       " 'Action|Adventure|Drama',\n",
       " 'Biography|Drama|History|War',\n",
       " 'Action|Adventure|Western',\n",
       " 'Action|Adventure|Fantasy|Sci-Fi|Thriller',\n",
       " 'Action|Animation|Crime|Sci-Fi|Thriller',\n",
       " 'Action|Adventure|Sci-Fi|Thriller',\n",
       " 'Comedy|Crime|Drama|Mystery|Romance',\n",
       " 'Action|Adventure|Thriller',\n",
       " 'Comedy|Drama|Romance',\n",
       " 'Adventure|Sci-Fi|Thriller',\n",
       " 'Drama|War',\n",
       " 'Action|Drama|Thriller|War',\n",
       " 'Crime|Drama|Thriller',\n",
       " 'Comedy',\n",
       " 'Action|Adventure|Fantasy|Sci-Fi',\n",
       " 'Drama|Horror|Thriller',\n",
       " 'Adventure|Drama|Sci-Fi|Thriller',\n",
       " 'Adventure|Drama|History',\n",
       " 'Crime|Drama',\n",
       " 'Action|Crime|Thriller',\n",
       " 'Drama|Sport',\n",
       " 'Adventure|Mystery|Sci-Fi',\n",
       " 'Action|Biography|Drama|History|War',\n",
       " 'Biography|Drama|Music',\n",
       " 'Drama|Fantasy',\n",
       " 'Drama|Thriller',\n",
       " 'Mystery|Thriller',\n",
       " 'Biography|Crime|Drama',\n",
       " 'Adventure|Drama',\n",
       " 'Adventure|Sci-Fi',\n",
       " 'Biography|Drama|Sport|War',\n",
       " 'Comedy|Western',\n",
       " 'Comedy|Drama|Musical|Romance',\n",
       " 'Action|Biography|Drama|History',\n",
       " 'Comedy|Drama',\n",
       " 'Biography|Drama|Thriller',\n",
       " 'Action|Drama|War',\n",
       " 'Biography|Drama|Music|Musical']"
      ]
     },
     "metadata": {},
     "execution_count": 64
    }
   ],
   "source": [
    "list_genres"
   ]
  },
  {
   "source": [
    "### Separar todos los géneros individuales y convertirlos en set para eliminar duplicados"
   ],
   "cell_type": "markdown",
   "metadata": {}
  },
  {
   "cell_type": "code",
   "execution_count": 66,
   "metadata": {},
   "outputs": [
    {
     "output_type": "execute_result",
     "data": {
      "text/plain": [
       "['Action',\n",
       " 'Horror',\n",
       " 'War',\n",
       " 'Fantasy',\n",
       " 'Mystery',\n",
       " 'Comedy',\n",
       " 'Music',\n",
       " 'Crime',\n",
       " 'Drama',\n",
       " 'Biography',\n",
       " 'Animation',\n",
       " 'History',\n",
       " 'Sport',\n",
       " 'Sci-Fi',\n",
       " 'Thriller',\n",
       " 'Western',\n",
       " 'Adventure',\n",
       " 'Musical',\n",
       " 'Romance']"
      ]
     },
     "metadata": {},
     "execution_count": 66
    }
   ],
   "source": [
    "totallist=[]\n",
    "for i in list_genres:\n",
    "    if (type(i) == str):\n",
    "        split_list = i.split(sep='|')\n",
    "        totallist += split_list\n",
    "\n",
    "myset=set(totallist)\n",
    "mylist=list(myset)\n",
    "mylist"
   ]
  },
  {
   "source": [
    "### El género musical esta repetido con dos nombres distintos así que eliminamos 'Musical' que es la cadena más larga para que 'Music' incluya ambos géneros: Music y Musical"
   ],
   "cell_type": "markdown",
   "metadata": {}
  },
  {
   "cell_type": "code",
   "execution_count": 54,
   "metadata": {},
   "outputs": [],
   "source": [
    "mylist.remove('Musical')"
   ]
  },
  {
   "cell_type": "code",
   "execution_count": 55,
   "metadata": {},
   "outputs": [
    {
     "output_type": "execute_result",
     "data": {
      "text/plain": [
       "['Action',\n",
       " 'Horror',\n",
       " 'War',\n",
       " 'Fantasy',\n",
       " 'Mystery',\n",
       " 'Comedy',\n",
       " 'Music',\n",
       " 'Crime',\n",
       " 'Drama',\n",
       " 'Biography',\n",
       " 'Animation',\n",
       " 'History',\n",
       " 'Sport',\n",
       " 'Sci-Fi',\n",
       " 'Thriller',\n",
       " 'Western',\n",
       " 'Adventure',\n",
       " 'Romance']"
      ]
     },
     "metadata": {},
     "execution_count": 55
    }
   ],
   "source": [
    "mylist"
   ]
  },
  {
   "source": [
    "### Crear una columna por género y ponerle True si el género aparece en el campo genres"
   ],
   "cell_type": "markdown",
   "metadata": {}
  },
  {
   "cell_type": "code",
   "execution_count": 56,
   "metadata": {},
   "outputs": [],
   "source": [
    "for i in mylist:\n",
    "    imdb[i]=(imdb['genres'].str.find(i)>=0)"
   ]
  },
  {
   "source": [
    "### Reemplazar True por 1 y False por 0"
   ],
   "cell_type": "markdown",
   "metadata": {}
  },
  {
   "cell_type": "code",
   "execution_count": 57,
   "metadata": {},
   "outputs": [],
   "source": [
    "imdb.replace({False:0, True:1}, inplace=True)"
   ]
  },
  {
   "source": [
    "### Mostrar las 18 columnas de géneros creadas"
   ],
   "cell_type": "markdown",
   "metadata": {}
  },
  {
   "cell_type": "code",
   "execution_count": 58,
   "metadata": {},
   "outputs": [
    {
     "output_type": "execute_result",
     "data": {
      "text/plain": [
       "    Action  Horror  War  Fantasy  Mystery  Comedy  Music  Crime  Drama  \\\n",
       "0        0       0    0        0        0       1      0      1      1   \n",
       "1        1       0    0        0        0       0      0      0      0   \n",
       "2        0       0    0        0        1       0      0      1      1   \n",
       "3        0       0    0        0        0       0      0      0      1   \n",
       "4        0       0    0        1        0       0      0      0      0   \n",
       "..     ...     ...  ...      ...      ...     ...    ...    ...    ...   \n",
       "94       0       0    0        0        0       0      0      0      1   \n",
       "95       0       0    0        0        0       1      0      0      1   \n",
       "96       0       0    0        0        0       0      0      0      1   \n",
       "97       1       0    1        0        0       0      0      0      1   \n",
       "98       0       0    0        0        0       0      1      0      1   \n",
       "\n",
       "    Biography  Animation  History  Sport  Sci-Fi  Thriller  Western  \\\n",
       "0           1          0        0      0       0         0        0   \n",
       "1           0          0        0      0       1         0        0   \n",
       "2           0          0        0      0       0         1        1   \n",
       "3           0          0        0      0       0         0        0   \n",
       "4           0          0        0      0       0         0        0   \n",
       "..        ...        ...      ...    ...     ...       ...      ...   \n",
       "94          1          0        1      0       0         0        0   \n",
       "95          0          0        0      0       0         0        0   \n",
       "96          1          0        0      0       0         1        0   \n",
       "97          0          0        0      0       0         0        0   \n",
       "98          1          0        0      0       0         0        0   \n",
       "\n",
       "    Adventure  Romance  \n",
       "0           0        0  \n",
       "1           1        0  \n",
       "2           0        0  \n",
       "3           0        0  \n",
       "4           1        0  \n",
       "..        ...      ...  \n",
       "94          0        0  \n",
       "95          0        0  \n",
       "96          0        0  \n",
       "97          0        0  \n",
       "98          0        0  \n",
       "\n",
       "[99 rows x 18 columns]"
      ],
      "text/html": "<div>\n<style scoped>\n    .dataframe tbody tr th:only-of-type {\n        vertical-align: middle;\n    }\n\n    .dataframe tbody tr th {\n        vertical-align: top;\n    }\n\n    .dataframe thead th {\n        text-align: right;\n    }\n</style>\n<table border=\"1\" class=\"dataframe\">\n  <thead>\n    <tr style=\"text-align: right;\">\n      <th></th>\n      <th>Action</th>\n      <th>Horror</th>\n      <th>War</th>\n      <th>Fantasy</th>\n      <th>Mystery</th>\n      <th>Comedy</th>\n      <th>Music</th>\n      <th>Crime</th>\n      <th>Drama</th>\n      <th>Biography</th>\n      <th>Animation</th>\n      <th>History</th>\n      <th>Sport</th>\n      <th>Sci-Fi</th>\n      <th>Thriller</th>\n      <th>Western</th>\n      <th>Adventure</th>\n      <th>Romance</th>\n    </tr>\n  </thead>\n  <tbody>\n    <tr>\n      <th>0</th>\n      <td>0</td>\n      <td>0</td>\n      <td>0</td>\n      <td>0</td>\n      <td>0</td>\n      <td>1</td>\n      <td>0</td>\n      <td>1</td>\n      <td>1</td>\n      <td>1</td>\n      <td>0</td>\n      <td>0</td>\n      <td>0</td>\n      <td>0</td>\n      <td>0</td>\n      <td>0</td>\n      <td>0</td>\n      <td>0</td>\n    </tr>\n    <tr>\n      <th>1</th>\n      <td>1</td>\n      <td>0</td>\n      <td>0</td>\n      <td>0</td>\n      <td>0</td>\n      <td>0</td>\n      <td>0</td>\n      <td>0</td>\n      <td>0</td>\n      <td>0</td>\n      <td>0</td>\n      <td>0</td>\n      <td>0</td>\n      <td>1</td>\n      <td>0</td>\n      <td>0</td>\n      <td>1</td>\n      <td>0</td>\n    </tr>\n    <tr>\n      <th>2</th>\n      <td>0</td>\n      <td>0</td>\n      <td>0</td>\n      <td>0</td>\n      <td>1</td>\n      <td>0</td>\n      <td>0</td>\n      <td>1</td>\n      <td>1</td>\n      <td>0</td>\n      <td>0</td>\n      <td>0</td>\n      <td>0</td>\n      <td>0</td>\n      <td>1</td>\n      <td>1</td>\n      <td>0</td>\n      <td>0</td>\n    </tr>\n    <tr>\n      <th>3</th>\n      <td>0</td>\n      <td>0</td>\n      <td>0</td>\n      <td>0</td>\n      <td>0</td>\n      <td>0</td>\n      <td>0</td>\n      <td>0</td>\n      <td>1</td>\n      <td>0</td>\n      <td>0</td>\n      <td>0</td>\n      <td>0</td>\n      <td>0</td>\n      <td>0</td>\n      <td>0</td>\n      <td>0</td>\n      <td>0</td>\n    </tr>\n    <tr>\n      <th>4</th>\n      <td>0</td>\n      <td>0</td>\n      <td>0</td>\n      <td>1</td>\n      <td>0</td>\n      <td>0</td>\n      <td>0</td>\n      <td>0</td>\n      <td>0</td>\n      <td>0</td>\n      <td>0</td>\n      <td>0</td>\n      <td>0</td>\n      <td>0</td>\n      <td>0</td>\n      <td>0</td>\n      <td>1</td>\n      <td>0</td>\n    </tr>\n    <tr>\n      <th>...</th>\n      <td>...</td>\n      <td>...</td>\n      <td>...</td>\n      <td>...</td>\n      <td>...</td>\n      <td>...</td>\n      <td>...</td>\n      <td>...</td>\n      <td>...</td>\n      <td>...</td>\n      <td>...</td>\n      <td>...</td>\n      <td>...</td>\n      <td>...</td>\n      <td>...</td>\n      <td>...</td>\n      <td>...</td>\n      <td>...</td>\n    </tr>\n    <tr>\n      <th>94</th>\n      <td>0</td>\n      <td>0</td>\n      <td>0</td>\n      <td>0</td>\n      <td>0</td>\n      <td>0</td>\n      <td>0</td>\n      <td>0</td>\n      <td>1</td>\n      <td>1</td>\n      <td>0</td>\n      <td>1</td>\n      <td>0</td>\n      <td>0</td>\n      <td>0</td>\n      <td>0</td>\n      <td>0</td>\n      <td>0</td>\n    </tr>\n    <tr>\n      <th>95</th>\n      <td>0</td>\n      <td>0</td>\n      <td>0</td>\n      <td>0</td>\n      <td>0</td>\n      <td>1</td>\n      <td>0</td>\n      <td>0</td>\n      <td>1</td>\n      <td>0</td>\n      <td>0</td>\n      <td>0</td>\n      <td>0</td>\n      <td>0</td>\n      <td>0</td>\n      <td>0</td>\n      <td>0</td>\n      <td>0</td>\n    </tr>\n    <tr>\n      <th>96</th>\n      <td>0</td>\n      <td>0</td>\n      <td>0</td>\n      <td>0</td>\n      <td>0</td>\n      <td>0</td>\n      <td>0</td>\n      <td>0</td>\n      <td>1</td>\n      <td>1</td>\n      <td>0</td>\n      <td>0</td>\n      <td>0</td>\n      <td>0</td>\n      <td>1</td>\n      <td>0</td>\n      <td>0</td>\n      <td>0</td>\n    </tr>\n    <tr>\n      <th>97</th>\n      <td>1</td>\n      <td>0</td>\n      <td>1</td>\n      <td>0</td>\n      <td>0</td>\n      <td>0</td>\n      <td>0</td>\n      <td>0</td>\n      <td>1</td>\n      <td>0</td>\n      <td>0</td>\n      <td>0</td>\n      <td>0</td>\n      <td>0</td>\n      <td>0</td>\n      <td>0</td>\n      <td>0</td>\n      <td>0</td>\n    </tr>\n    <tr>\n      <th>98</th>\n      <td>0</td>\n      <td>0</td>\n      <td>0</td>\n      <td>0</td>\n      <td>0</td>\n      <td>0</td>\n      <td>1</td>\n      <td>0</td>\n      <td>1</td>\n      <td>1</td>\n      <td>0</td>\n      <td>0</td>\n      <td>0</td>\n      <td>0</td>\n      <td>0</td>\n      <td>0</td>\n      <td>0</td>\n      <td>0</td>\n    </tr>\n  </tbody>\n</table>\n<p>99 rows × 18 columns</p>\n</div>"
     },
     "metadata": {},
     "execution_count": 58
    }
   ],
   "source": [
    "imdb.iloc[:,-18:]"
   ]
  },
  {
   "source": [
    "### Eliminar la columa inicial de genres"
   ],
   "cell_type": "markdown",
   "metadata": {}
  },
  {
   "cell_type": "code",
   "execution_count": 59,
   "metadata": {},
   "outputs": [],
   "source": [
    "del(imdb['genres'])"
   ]
  },
  {
   "cell_type": "code",
   "execution_count": null,
   "metadata": {},
   "outputs": [],
   "source": []
  }
 ]
}